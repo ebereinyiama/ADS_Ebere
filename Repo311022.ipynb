{
 "cells": [
  {
   "cell_type": "code",
   "execution_count": 1,
   "id": "f3a2f065",
   "metadata": {},
   "outputs": [
    {
     "name": "stdout",
     "output_type": "stream",
     "text": [
      "Hello World\n"
     ]
    }
   ],
   "source": [
    "print('Hello World')"
   ]
  },
  {
   "cell_type": "code",
   "execution_count": 3,
   "id": "77774de4",
   "metadata": {},
   "outputs": [],
   "source": [
    "import pandas as pd\n",
    "import clean_up as cp"
   ]
  },
  {
   "cell_type": "code",
   "execution_count": 7,
   "id": "e64841b9",
   "metadata": {},
   "outputs": [
    {
     "name": "stdout",
     "output_type": "stream",
     "text": [
      "8280\n",
      "Number of words =  40241\n"
     ]
    }
   ],
   "source": [
    "with open(\"big_data.txt\", \"r\") as text:\n",
    "    all_words = []\n",
    "    counter = 0\n",
    "    for line in text:\n",
    "        words = line.split()\n",
    "        counter += 1\n",
    "    \n",
    "        for word in words:\n",
    "            word = cp.clean(word)\n",
    "            all_words.append(word)\n",
    "        \n",
    "        \n",
    "print(counter)\n",
    "#print(\"Number of words = \", all_words)\n",
    "print(\"Number of words = \", len(all_words))"
   ]
  },
  {
   "cell_type": "code",
   "execution_count": 10,
   "id": "1757f929",
   "metadata": {},
   "outputs": [
    {
     "name": "stdout",
     "output_type": "stream",
     "text": [
      "             2425\n",
      "the          2018\n",
      "and          1347\n",
      "to           1004\n",
      "of            787\n",
      "             ... \n",
      "resided         1\n",
      "owned           1\n",
      "shifted         1\n",
      "emotional       1\n",
      "companion       1\n",
      "Name: words, Length: 2960, dtype: int64\n"
     ]
    }
   ],
   "source": [
    "df_words = pd.DataFrame(data = all_words, columns = (\"words\",))\n",
    "df_counts = df_words[\"words\"].value_counts()\n",
    "print(df_counts)"
   ]
  },
  {
   "cell_type": "code",
   "execution_count": null,
   "id": "2be5012b",
   "metadata": {},
   "outputs": [],
   "source": []
  },
  {
   "cell_type": "code",
   "execution_count": null,
   "id": "f1d67256",
   "metadata": {},
   "outputs": [],
   "source": []
  },
  {
   "cell_type": "code",
   "execution_count": null,
   "id": "326c31c2",
   "metadata": {},
   "outputs": [],
   "source": []
  },
  {
   "cell_type": "code",
   "execution_count": 2,
   "id": "a66f1b1d",
   "metadata": {},
   "outputs": [],
   "source": [
    "def clean(string):\n",
    "    \"\"\" This function returns word with non-letters removed and \n",
    "    converts letters to lower case\"\"\"\n",
    "    \n",
    "    # remove non-ascii signs like the quotes in this text\n",
    "    string = string.encode('ascii', 'ignore').decode()\n",
    "    # convert to lower case\n",
    "    string = string.lower()\n",
    "    \n",
    "    # now remove list of punctuation marks\n",
    "    nonletters = [\".\", \",\", \":\", \";\", \"!\", \"?\", \"-\", \"(\", \")\", \n",
    "                  \"/\", \"0\", \"1\", \"2\", \"3\", \"4\", \"5\", \n",
    "                  \"6\", \"7\", \"8\", \"9\", \">\", \"<\", \"#\", '\"', \"^\", \n",
    "                  \"=\", \"_\", \"[\", \"]\", \"%\", \"$\", \"@\", \"+\", \"|\",\n",
    "                  \"*\", \"~\", \"&\"]\n",
    "    nonletters.append(chr(92))   # use ascii code for backslash\n",
    "    nonletters.append(chr(35))   # and for double cross\n",
    "\n",
    "    for nl in nonletters:\n",
    "        string = string.replace(nl, '')\n",
    "    \n",
    "    return string\n",
    "\n",
    "\n",
    "import clean_up as cp\n",
    "big_data = cp.clean(\"big_data.txt\")"
   ]
  },
  {
   "cell_type": "code",
   "execution_count": null,
   "id": "417bc6c6",
   "metadata": {},
   "outputs": [],
   "source": []
  }
 ],
 "metadata": {
  "kernelspec": {
   "display_name": "Python 3 (ipykernel)",
   "language": "python",
   "name": "python3"
  },
  "language_info": {
   "codemirror_mode": {
    "name": "ipython",
    "version": 3
   },
   "file_extension": ".py",
   "mimetype": "text/x-python",
   "name": "python",
   "nbconvert_exporter": "python",
   "pygments_lexer": "ipython3",
   "version": "3.9.12"
  }
 },
 "nbformat": 4,
 "nbformat_minor": 5
}
